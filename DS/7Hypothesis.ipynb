{
 "cells": [
  {
   "cell_type": "code",
   "execution_count": 4,
   "metadata": {
    "collapsed": true
   },
   "outputs": [],
   "source": [
    "import math\n",
    "import DS._6probability as pr\n",
    "import matplotlib.pyplot as plt"
   ]
  },
  {
   "cell_type": "code",
   "execution_count": null,
   "metadata": {},
   "outputs": [],
   "source": [
    "def normal_appr_to_binomial(n, p):\n",
    "    mu = p * n \n",
    "    sigma = math.sqrt(p * (1 - p) * n)\n",
    "    return mu, sigma\n",
    "\n",
    "\n",
    "normal_probability_below = pr.normal_cdf\n",
    "\n",
    "\n",
    "def normal_probability_above(lo, mu, sigma=1):\n",
    "    return 1 - pr.normal_cdf(lo, mu, sigma)\n",
    "\n",
    "\n",
    "def normal_probability_between(lo, hi, mu, sigma):\n",
    "    return pr.normal_cdf(hi, mu, sigma) - pr.normal_cdf(lo, mu, sigma)\n",
    "\n",
    "\n",
    "def normal_probability_outside(lo, hi, mu=0, sigma=1):\n",
    "    return 1 - normal_probability_between(lo, hi, mu, sigma)\n",
    "\n",
    "\n",
    "def normal_upper_bound(probability, mu=0, sigma=1):\n",
    "    return pr.inverse_normal_cdf(probability, mu, sigma)\n",
    "\n",
    "\n",
    "def normal_lower_bound(probability, mu, sigma=1):\n",
    "    return inverse_normal_cdf(1 - probability, mu, sigma)\n",
    "\n",
    "\n",
    "def normal_two_sided_bounds(probability, mu=0, sigma=1):\n",
    "    tail_probability = (1 - probability) / 2\n",
    "    upper_bound = normal_lower_bound(tail_probability, mu, sigma)\n",
    "    lower_bound = normal_upper_bound(tail_probability, mu, sigma)\n",
    "    return lower_bound, upper_bound\n",
    "\n",
    "\n"
   ]
  }
 ],
 "metadata": {
  "kernelspec": {
   "display_name": "Python 2",
   "language": "python",
   "name": "python2"
  },
  "language_info": {
   "codemirror_mode": {
    "name": "ipython",
    "version": 2.0
   },
   "file_extension": ".py",
   "mimetype": "text/x-python",
   "name": "python",
   "nbconvert_exporter": "python",
   "pygments_lexer": "ipython2",
   "version": "2.7.6"
  }
 },
 "nbformat": 4,
 "nbformat_minor": 0
}