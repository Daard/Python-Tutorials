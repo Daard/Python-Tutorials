{
 "cells": [
  {
   "cell_type": "code",
   "execution_count": 12,
   "metadata": {
    "collapsed": true
   },
   "outputs": [],
   "source": [
    "import math\n",
    "import DS._6probability as pr\n",
    "import matplotlib.pyplot as plt\n",
    "import random"
   ]
  },
  {
   "cell_type": "code",
   "execution_count": 2,
   "metadata": {},
   "outputs": [],
   "source": [
    "def normal_appr_to_binomial(n, p):\n",
    "    mu = p * n \n",
    "    sigma = math.sqrt(p * (1 - p) * n)\n",
    "    return mu, sigma\n",
    "\n",
    "\n",
    "normal_probability_below = pr.normal_cdf\n",
    "\n",
    "\n",
    "def normal_probability_above(lo, mu, sigma=1):\n",
    "    return 1 - pr.normal_cdf(lo, mu, sigma)\n",
    "\n",
    "\n",
    "def normal_probability_between(lo, hi, mu, sigma):\n",
    "    return pr.normal_cdf(hi, mu, sigma) - pr.normal_cdf(lo, mu, sigma)\n",
    "\n",
    "\n",
    "def normal_probability_outside(lo, hi, mu=0, sigma=1):\n",
    "    return 1 - normal_probability_between(lo, hi, mu, sigma)\n",
    "\n",
    "\n",
    "def normal_upper_bound(probability, mu=0, sigma=1):\n",
    "    return pr.inverse_normal_cdf(probability, mu, sigma)\n",
    "\n",
    "\n",
    "def normal_lower_bound(probability, mu, sigma=1):\n",
    "    return pr.inverse_normal_cdf(1 - probability, mu, sigma)\n",
    "\n",
    "\n",
    "def normal_two_sided_bounds(probability, mu=0, sigma=1):\n",
    "    tail_probability = (1 - probability) / 2\n",
    "    upper_bound = normal_lower_bound(tail_probability, mu, sigma)\n",
    "    lower_bound = normal_upper_bound(tail_probability, mu, sigma)\n",
    "    return lower_bound, upper_bound"
   ]
  },
  {
   "cell_type": "markdown",
   "metadata": {},
   "source": [
    "Flip coin 1000 times"
   ]
  },
  {
   "cell_type": "code",
   "execution_count": 3,
   "metadata": {},
   "outputs": [
    {
     "name": "stdout",
     "output_type": "stream",
     "text": [
      "500.0 15.811388300841896\n"
     ]
    }
   ],
   "source": [
    "mu_0, sigma_0 = normal_appr_to_binomial(1000, 0.5)\n",
    "print(mu_0, sigma_0)"
   ]
  },
  {
   "cell_type": "markdown",
   "metadata": {},
   "source": [
    "Hypothesis testing is not working"
   ]
  },
  {
   "cell_type": "code",
   "execution_count": 4,
   "metadata": {},
   "outputs": [
    {
     "name": "stdout",
     "output_type": "stream",
     "text": [
      "mid_z:0.0, mid_p:0.5\nmid_z:5.0, mid_p:0.9999997133484282\nmid_z:2.5, mid_p:0.9937903346742238\nmid_z:1.25, mid_p:0.8943502263331446\nmid_z:1.875, mid_p:0.9696036382347386\nmid_z:2.1875, mid_p:0.9856469783911983\nmid_z:2.03125, mid_p:0.9788851796822848\nmid_z:1.953125, mid_p:0.9745976073538702\nmid_z:1.9921875, mid_p:0.9768247553897145\nmid_z:1.97265625, mid_p:0.9757326301730118\nmid_z:1.962890625, mid_p:0.9751705578252797\nmid_z:1.9580078125, mid_p:0.9748854520118473\nmid_z:1.96044921875, mid_p:0.9750283460648799\nmid_z:1.959228515625, mid_p:0.9749569844759658\nmid_z:1.9598388671875, mid_p:0.9749926866109371\nmid_z:1.96014404296875, mid_p:0.975010521670677\nmid_z:1.959991455078125, mid_p:0.975001605474294\nmid_z:1.9599151611328125, mid_p:0.9749971463760241\nmid_z:1.9599533081054688, mid_p:0.974999376008507\nmid_z:1.9599723815917969, mid_p:0.9750004907622368\nmid_z:1.9599628448486328, mid_p:0.9749999333905808\nmid_z:0.0, mid_p:0.5\nmid_z:-5.0, mid_p:2.8665157186802404e-07\nmid_z:-2.5, mid_p:0.006209665325776159\nmid_z:-1.25, mid_p:0.1056497736668553\nmid_z:-1.875, mid_p:0.030396361765261393\nmid_z:-2.1875, mid_p:0.014353021608801697\nmid_z:-2.03125, mid_p:0.02111482031771522\nmid_z:-1.953125, mid_p:0.0254023926461297\nmid_z:-1.9921875, mid_p:0.023175244610285473\nmid_z:-1.97265625, mid_p:0.02426736982698824\nmid_z:-1.962890625, mid_p:0.024829442174720273\nmid_z:-1.9580078125, mid_p:0.02511454798815277\nmid_z:-1.96044921875, mid_p:0.024971653935120186\nmid_z:-1.959228515625, mid_p:0.025043015524034262\nmid_z:-1.9598388671875, mid_p:0.02500731338906298\nmid_z:-1.96014404296875, mid_p:0.024989478329323023\nmid_z:-1.959991455078125, mid_p:0.024998394525706014\nmid_z:-1.9599151611328125, mid_p:0.025002853623975863\nmid_z:-1.9599533081054688, mid_p:0.02500062399149311\nmid_z:-1.9599723815917969, mid_p:0.024999509237763173\nmid_z:-1.9599628448486328, mid_p:0.02500006660941917\n(469.01026640487555, 530.9897335951244)\n"
     ]
    }
   ],
   "source": [
    "print(normal_two_sided_bounds(0.95, mu_0, sigma_0))"
   ]
  },
  {
   "cell_type": "code",
   "execution_count": 7,
   "metadata": {},
   "outputs": [
    {
     "name": "stdout",
     "output_type": "stream",
     "text": [
      "mid_z:0.0, mid_p:0.5\nmid_z:5.0, mid_p:0.9999997133484282\nmid_z:2.5, mid_p:0.9937903346742238\nmid_z:1.25, mid_p:0.8943502263331446\nmid_z:1.875, mid_p:0.9696036382347386\nmid_z:2.1875, mid_p:0.9856469783911983\nmid_z:2.03125, mid_p:0.9788851796822848\nmid_z:1.953125, mid_p:0.9745976073538702\nmid_z:1.9921875, mid_p:0.9768247553897145\nmid_z:1.97265625, mid_p:0.9757326301730118\nmid_z:1.962890625, mid_p:0.9751705578252797\nmid_z:1.9580078125, mid_p:0.9748854520118473\nmid_z:1.96044921875, mid_p:0.9750283460648799\nmid_z:1.959228515625, mid_p:0.9749569844759658\nmid_z:1.9598388671875, mid_p:0.9749926866109371\nmid_z:1.96014404296875, mid_p:0.975010521670677\nmid_z:1.959991455078125, mid_p:0.975001605474294\nmid_z:1.9599151611328125, mid_p:0.9749971463760241\nmid_z:1.9599533081054688, mid_p:0.974999376008507\nmid_z:1.9599723815917969, mid_p:0.9750004907622368\nmid_z:1.9599628448486328, mid_p:0.9749999333905808\nmid_z:0.0, mid_p:0.5\nmid_z:-5.0, mid_p:2.8665157186802404e-07\nmid_z:-2.5, mid_p:0.006209665325776159\nmid_z:-1.25, mid_p:0.1056497736668553\nmid_z:-1.875, mid_p:0.030396361765261393\nmid_z:-2.1875, mid_p:0.014353021608801697\nmid_z:-2.03125, mid_p:0.02111482031771522\nmid_z:-1.953125, mid_p:0.0254023926461297\nmid_z:-1.9921875, mid_p:0.023175244610285473\nmid_z:-1.97265625, mid_p:0.02426736982698824\nmid_z:-1.962890625, mid_p:0.024829442174720273\nmid_z:-1.9580078125, mid_p:0.02511454798815277\nmid_z:-1.96044921875, mid_p:0.024971653935120186\nmid_z:-1.959228515625, mid_p:0.025043015524034262\nmid_z:-1.9598388671875, mid_p:0.02500731338906298\nmid_z:-1.96014404296875, mid_p:0.024989478329323023\nmid_z:-1.959991455078125, mid_p:0.024998394525706014\nmid_z:-1.9599151611328125, mid_p:0.025002853623975863\nmid_z:-1.9599533081054688, mid_p:0.02500062399149311\nmid_z:-1.9599723815917969, mid_p:0.024999509237763173\nmid_z:-1.9599628448486328, mid_p:0.02500006660941917\n0.8865480012953671\n"
     ]
    }
   ],
   "source": [
    "# 95% bounds based on assumption p is 0.5\n",
    "lo, hi = normal_two_sided_bounds(0.95, mu_0, sigma_0)\n",
    "# actual mu and sigma based on p = 0.55\n",
    "mu_1, sigma_1 = normal_appr_to_binomial(1000, 0.55)\n",
    "#a type 2 error means we fail to reject the null hypothesis\n",
    "#which will happen when X is still in our original interval\n",
    "type_2_probability = normal_probability_between(lo, hi, mu_1, sigma_1)\n",
    "power = 1 - type_2_probability #0.887\n",
    "print(power)"
   ]
  },
  {
   "cell_type": "code",
   "execution_count": 8,
   "metadata": {},
   "outputs": [
    {
     "name": "stdout",
     "output_type": "stream",
     "text": [
      "mid_z:0.0, mid_p:0.5\nmid_z:5.0, mid_p:0.9999997133484282\nmid_z:2.5, mid_p:0.9937903346742238\nmid_z:1.25, mid_p:0.8943502263331446\nmid_z:1.875, mid_p:0.9696036382347386\nmid_z:1.5625, mid_p:0.9409148770673323\nmid_z:1.71875, mid_p:0.9571700482975829\nmid_z:1.640625, mid_p:0.9495623589175859\nmid_z:1.6796875, mid_p:0.953490933446026\nmid_z:1.66015625, mid_p:0.9515584883152071\nmid_z:1.650390625, mid_p:0.9505684663306384\nmid_z:1.6455078125, mid_p:0.9500674335535713\nmid_z:1.64306640625, mid_p:0.9498154027478114\nmid_z:1.644287109375, mid_p:0.9499415446188354\nmid_z:1.6448974609375, mid_p:0.9500045206832439\nmid_z:1.64459228515625, mid_p:0.9499730405527995\nmid_z:1.644744873046875, mid_p:0.9499887825931493\nmid_z:1.6448211669921875, mid_p:0.9499966521319394\nmid_z:1.6448593139648438, mid_p:0.9500005865310226\nmid_z:1.6448402404785156, mid_p:0.9499986193623393\nmid_z:1.6448497772216797, mid_p:0.9499996029543953\n0.9363794803307173\n"
     ]
    }
   ],
   "source": [
    "hi = normal_upper_bound(0.95, mu_0, sigma_0)\n",
    "# is 526 (< 531, since we need more probability in the upper tail)\n",
    "type_2_probability = normal_probability_below(hi, mu_1, sigma_1)\n",
    "power = 1 - type_2_probability\n",
    "print(power) #0.936"
   ]
  },
  {
   "cell_type": "markdown",
   "metadata": {},
   "source": [
    "p-values"
   ]
  },
  {
   "cell_type": "code",
   "execution_count": 9,
   "metadata": {},
   "outputs": [],
   "source": [
    "def two_sided_p_value(x, mu=0, sigma=1):\n",
    "    if x >= mu:\n",
    "        # if x is greater than the mean,\n",
    "#  the tail is what's greater than x\n",
    "        return 2 * normal_probability_above(x, mu, sigma)\n",
    "    else:\n",
    "        # if x is less than the mean, \n",
    "# the tail is what's less than x\n",
    "        return 2 * normal_probability_below(x, mu, sigma)"
   ]
  },
  {
   "cell_type": "code",
   "execution_count": 10,
   "metadata": {},
   "outputs": [
    {
     "name": "stdout",
     "output_type": "stream",
     "text": [
      "0.06207721579598857\n"
     ]
    }
   ],
   "source": [
    "\n",
    "print(two_sided_p_value(529.5, mu_0, sigma_0))\n",
    "#0.0620772157959885"
   ]
  },
  {
   "cell_type": "markdown",
   "metadata": {},
   "source": [
    "Confidence Intervals"
   ]
  },
  {
   "cell_type": "code",
   "execution_count": 11,
   "metadata": {},
   "outputs": [
    {
     "name": "stdout",
     "output_type": "stream",
     "text": [
      "mid_z:0.0, mid_p:0.5\nmid_z:5.0, mid_p:0.9999997133484282\nmid_z:2.5, mid_p:0.9937903346742238\nmid_z:1.25, mid_p:0.8943502263331446\nmid_z:1.875, mid_p:0.9696036382347386\nmid_z:2.1875, mid_p:0.9856469783911983\nmid_z:2.03125, mid_p:0.9788851796822848\nmid_z:1.953125, mid_p:0.9745976073538702\nmid_z:1.9921875, mid_p:0.9768247553897145\nmid_z:1.97265625, mid_p:0.9757326301730118\nmid_z:1.962890625, mid_p:0.9751705578252797\nmid_z:1.9580078125, mid_p:0.9748854520118473\nmid_z:1.96044921875, mid_p:0.9750283460648799\nmid_z:1.959228515625, mid_p:0.9749569844759658\nmid_z:1.9598388671875, mid_p:0.9749926866109371\nmid_z:1.96014404296875, mid_p:0.975010521670677\nmid_z:1.959991455078125, mid_p:0.975001605474294\nmid_z:1.9599151611328125, mid_p:0.9749971463760241\nmid_z:1.9599533081054688, mid_p:0.974999376008507\nmid_z:1.9599723815917969, mid_p:0.9750004907622368\nmid_z:1.9599628448486328, mid_p:0.9749999333905808\nmid_z:0.0, mid_p:0.5\nmid_z:-5.0, mid_p:2.8665157186802404e-07\nmid_z:-2.5, mid_p:0.006209665325776159\nmid_z:-1.25, mid_p:0.1056497736668553\nmid_z:-1.875, mid_p:0.030396361765261393\nmid_z:-2.1875, mid_p:0.014353021608801697\nmid_z:-2.03125, mid_p:0.02111482031771522\nmid_z:-1.953125, mid_p:0.0254023926461297\nmid_z:-1.9921875, mid_p:0.023175244610285473\nmid_z:-1.97265625, mid_p:0.02426736982698824\nmid_z:-1.962890625, mid_p:0.024829442174720273\nmid_z:-1.9580078125, mid_p:0.02511454798815277\nmid_z:-1.96044921875, mid_p:0.024971653935120186\nmid_z:-1.959228515625, mid_p:0.025043015524034262\nmid_z:-1.9598388671875, mid_p:0.02500731338906298\nmid_z:-1.96014404296875, mid_p:0.024989478329323023\nmid_z:-1.959991455078125, mid_p:0.024998394525706014\nmid_z:-1.9599151611328125, mid_p:0.025002853623975863\nmid_z:-1.9599533081054688, mid_p:0.02500062399149311\nmid_z:-1.9599723815917969, mid_p:0.024999509237763173\nmid_z:-1.9599628448486328, mid_p:0.02500006660941917\n0.4940490278129096 0.5559509721870904\n"
     ]
    }
   ],
   "source": [
    "#we flipped a coin 1000 times\n",
    "p_hat = 525 / 1000\n",
    "mu = p_hat\n",
    "sigma = math.sqrt(p_hat * (1 - p_hat) / 1000)\n",
    "# 0.0158\n",
    "lo, hi = normal_two_sided_bounds ( 0.95 , mu , sigma)\n",
    "print(lo, hi)\n",
    "# [0.4940, 0.5560]"
   ]
  },
  {
   "cell_type": "markdown",
   "metadata": {},
   "source": [
    "P-hacking"
   ]
  },
  {
   "cell_type": "code",
   "execution_count": 19,
   "metadata": {},
   "outputs": [],
   "source": [
    "def run_experiment():\n",
    "    \"\"\"flip a fair coin 1000 times, \n",
    "    True = heads, False = tails\"\"\"\n",
    "    return [random.random() < 0.5 for _ in range(1000)]\n",
    "    \n",
    "    \n",
    "def reject_fairness(experiment):\n",
    "     \"\"\"using the 5% significance levels\"\"\"\n",
    "     num_heads = len([flip for flip in experiment if flip])\n",
    "     return num_heads < 469 or num_heads > 531"
   ]
  },
  {
   "cell_type": "code",
   "execution_count": 20,
   "metadata": {},
   "outputs": [
    {
     "name": "stdout",
     "output_type": "stream",
     "text": [
      "46\n"
     ]
    }
   ],
   "source": [
    "random.seed(0)\n",
    "experiments = [run_experiment() for _ in range(1000)]\n",
    "num_rejections = len([experiment \n",
    "                      for experiment in experiments \n",
    "                      if reject_fairness(experiment)])\n",
    "print(num_rejections)"
   ]
  },
  {
   "cell_type": "code",
   "execution_count": null,
   "metadata": {},
   "outputs": [],
   "source": []
  }
 ],
 "metadata": {
  "kernelspec": {
   "display_name": "Python 2",
   "language": "python",
   "name": "python2"
  },
  "language_info": {
   "codemirror_mode": {
    "name": "ipython",
    "version": 2
   },
   "file_extension": ".py",
   "mimetype": "text/x-python",
   "name": "python",
   "nbconvert_exporter": "python",
   "pygments_lexer": "ipython2",
   "version": "2.7.6"
  }
 },
 "nbformat": 4,
 "nbformat_minor": 0
}
