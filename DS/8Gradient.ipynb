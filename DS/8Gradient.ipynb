{
 "cells": [
  {
   "cell_type": "code",
   "execution_count": 7,
   "metadata": {
    "collapsed": true
   },
   "outputs": [],
   "source": [
    "import random\n",
    "import math"
   ]
  },
  {
   "cell_type": "code",
   "execution_count": 1,
   "metadata": {},
   "outputs": [],
   "source": [
    "def sum_of_squares(v):\n",
    "    return sum(v_i**2 for v_i in v)\n",
    "\n",
    "def difference_quotient(f, x, h):\n",
    "    return (f(x+h) - f(x)) / h\n",
    "\n",
    "def partial_difference_quotient(f, v, i, h):\n",
    "    w = [v_j + (h if j == i else 0) for j, v_j in enumerate(v)]\n",
    "    return (f(w) - f(v)) / h\n",
    "\n",
    "def estimeate_graient(f, v, h=0.000001):\n",
    "    return [partial_difference_quotient(f, v, i, h) \n",
    "            for i, _ in enumerate(v)]"
   ]
  },
  {
   "cell_type": "markdown",
   "metadata": {},
   "source": [
    "Using the gradient"
   ]
  },
  {
   "cell_type": "code",
   "execution_count": 8,
   "metadata": {},
   "outputs": [
    {
     "name": "stdout",
     "output_type": "stream",
     "text": [
      "[-0.0003618315489830685, -8.040701088512623e-05, 0.00032162804354050493]\n"
     ]
    }
   ],
   "source": [
    "def step(v, direction, step_size):\n",
    "    return [v_i + step_size * direction_i \n",
    "            for v_i, direction_i in zip(v, direction)]\n",
    "\n",
    "\n",
    "def sum_of_squares_gradient(v):\n",
    "    return [2*vi for vi in v]\n",
    "\n",
    "\n",
    "#rand point\n",
    "v = [random.randint(-10, 10) for i in range(3)]\n",
    "tolerance = 0.00001\n",
    "\n",
    "while True:\n",
    "    gradient = sum_of_squares_gradient(v)\n",
    "    next_v = step(v, gradient, -0.01)\n",
    "    if math.sqrt(sum((next_vi - vi) ** 2 \n",
    "                     for next_vi, vi in zip(next_v, v))) < tolerance:\n",
    "        break\n",
    "    v = next_v\n",
    "    \n",
    "print(v)"
   ]
  },
  {
   "cell_type": "markdown",
   "metadata": {},
   "source": [
    "Choosing the Right Step Size"
   ]
  },
  {
   "cell_type": "code",
   "execution_count": 9,
   "metadata": {},
   "outputs": [],
   "source": [
    "step_sizes = [100, 10, 1, 0.1, 0.01, 0.001]\n",
    "def safe(f):\n",
    "    def safe_f(*args, **kwargs):\n",
    "        try:\n",
    "            return f(*args, **kwargs)\n",
    "        except:\n",
    "            return float('inf')\n",
    "    return safe_f()"
   ]
  },
  {
   "cell_type": "markdown",
   "metadata": {},
   "source": [
    "Putting it all together"
   ]
  },
  {
   "cell_type": "code",
   "execution_count": null,
   "metadata": {},
   "outputs": [],
   "source": [
    "def minimize_batch(target_fn, gradient_fn, theta_0, tolerance=0.000001):\n",
    "    \"\"\"Use gradient descent to find theta that minimize target_fn\"\"\"\n",
    "    step_sizes = [100, 10, 1, 0.1, 0.01, 0.001]\n",
    "    theta= theta_0\n",
    "    target_fn = safe(target_fn)\n",
    "    value = target_fn(theta)\n",
    "    while True:\n",
    "        gradient = gradient_fn(theta)\n",
    "        next_thetas = [step(theta, gradient, -step_sizes) \n",
    "                       for step_sizes in step_sizes]\n",
    "        #choose the one that minimize the error function\n",
    "        next_theta = min(next_thetas, key=target_fn)\n",
    "        next_value = target_fn(next_theta)\n",
    "        if abs(value - next_value) < tolerance:\n",
    "            return theta\n",
    "        else:\n",
    "            theta, value = next_thetas, next_value"
   ]
  },
  {
   "cell_type": "markdown",
   "metadata": {},
   "source": [
    ""
   ]
  },
  {
   "cell_type": "code",
   "execution_count": null,
   "metadata": {},
   "outputs": [],
   "source": [
    "def in_random_order(data):\n",
    "    \"\"\"generator that returns the elemnts of data in random order\"\"\"\n",
    "    indexes = [i for i, _ in enumerate(data)]\n",
    "    random.shuffle(indexes)\n",
    "    for i in indexes:\n",
    "        yield data[i]\n",
    "    \n",
    "        \n",
    "def minimize_stochastic(target_fn, gradient_fn, x, y, theta_0, alpha_0=0.01):\n",
    "    data = zip(x, y)\n",
    "    theta = theta_0\n",
    "    #initial guasses\n",
    "    alpha = alpha_0 #initial step size\n",
    "    min_theta, min_value = None, float('inf') #the minimum so far\n",
    "    iterations_with_no_improvement = 0\n",
    "    #if we ever go 100 iterations with no impovement, stop\n",
    "    while iterations_with_no_improvement < 100:\n",
    "        value = sum(target_fn(x_i, y_i, theta) for x_i, y_i, in data)\n",
    "        if value < min_value:\n",
    "            #if we've found a new minimum, remeber \n",
    "            # it and go back to the original step size \n",
    "            min_theta, min_value = theta, value\n",
    "            iterations_with_no_improvement = 0\n",
    "            alpha = alpha_0\n",
    "        else:\n",
    "            #otherwise we're not improving,so try shrinking the step size \n",
    "            iterations_with_no_improvement += 1\n",
    "            alpha *= 0.9\n",
    "            #and take a gradient step for each of the data points\n",
    "            for xi, yi in in_random_order(data):\n",
    "                gradient_i = gradient_fn(xi, yi, theta)\n",
    "                theta = [ti - alpha * gi \n",
    "                         for ti, gi in zip(theta, gradient_i)]\n",
    "    return min_theta"
   ]
  }
 ],
 "metadata": {
  "kernelspec": {
   "display_name": "Python 2",
   "language": "python",
   "name": "python2"
  },
  "language_info": {
   "codemirror_mode": {
    "name": "ipython",
    "version": 2.0
   },
   "file_extension": ".py",
   "mimetype": "text/x-python",
   "name": "python",
   "nbconvert_exporter": "python",
   "pygments_lexer": "ipython2",
   "version": "2.7.6"
  }
 },
 "nbformat": 4,
 "nbformat_minor": 0
}